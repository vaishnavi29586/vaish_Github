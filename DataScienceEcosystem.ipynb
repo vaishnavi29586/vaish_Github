{
  "metadata": {
    "language_info": {
      "codemirror_mode": {
        "name": "python",
        "version": 3
      },
      "file_extension": ".py",
      "mimetype": "text/x-python",
      "name": "python",
      "nbconvert_exporter": "python",
      "pygments_lexer": "ipython3",
      "version": "3.8"
    },
    "kernelspec": {
      "name": "python",
      "display_name": "Pyolite",
      "language": "python"
    }
  },
  "nbformat_minor": 4,
  "nbformat": 4,
  "cells": [
    {
      "cell_type": "markdown",
      "source": "# Data Science Tools and Ecosystem",
      "metadata": {}
    },
    {
      "cell_type": "markdown",
      "source": "In this notebook, Data Science Tools and Ecosystem are summarized.\n",
      "metadata": {}
    },
    {
      "cell_type": "markdown",
      "source": "<b>Objectives:</b>",
      "metadata": {}
    },
    {
      "cell_type": "markdown",
      "source": "* Languages of Data Science\n* JupyterLab and Jupyter Notebook\n* Watson Studio\n* Data Science Tools\n* Packages,APIs,Datasets and Models",
      "metadata": {}
    },
    {
      "cell_type": "markdown",
      "source": "<b1>Some of the popular languages that Data Scientists use are:</b1>",
      "metadata": {}
    },
    {
      "cell_type": "markdown",
      "source": "1. Python\n2. R\n3. Julia\n4. Scala\n5. SQL",
      "metadata": {}
    },
    {
      "cell_type": "markdown",
      "source": "<b1>Some of the commonly used libraries used by Data Scientists include:</b1>",
      "metadata": {}
    },
    {
      "cell_type": "markdown",
      "source": "1. TensorFlow\n2. SciPy\n3. NumPy\n4. Pandas\n5. Matplotlib\n6. Keras",
      "metadata": {}
    },
    {
      "cell_type": "markdown",
      "source": " Data Science Tools",
      "metadata": {}
    },
    {
      "cell_type": "markdown",
      "source": "RStudio \nApache Spark \nTensorFlow",
      "metadata": {}
    },
    {
      "cell_type": "markdown",
      "source": "### Below are a few examples of evaluating arithmetic expressions in Python",
      "metadata": {}
    },
    {
      "cell_type": "code",
      "source": "This a simple arithmetic expression to mutiply then add integers.",
      "metadata": {},
      "execution_count": null,
      "outputs": []
    },
    {
      "cell_type": "code",
      "source": "(3*4)+5",
      "metadata": {
        "trusted": true
      },
      "execution_count": 1,
      "outputs": [
        {
          "execution_count": 1,
          "output_type": "execute_result",
          "data": {
            "text/plain": "17"
          },
          "metadata": {}
        }
      ]
    },
    {
      "cell_type": "code",
      "source": "This will convert 200 minutes to hours by diving by 60",
      "metadata": {},
      "execution_count": null,
      "outputs": []
    },
    {
      "cell_type": "code",
      "source": "200/60",
      "metadata": {
        "trusted": true
      },
      "execution_count": 2,
      "outputs": [
        {
          "execution_count": 2,
          "output_type": "execute_result",
          "data": {
            "text/plain": "3.3333333333333335"
          },
          "metadata": {}
        }
      ]
    },
    {
      "cell_type": "markdown",
      "source": "## Author\nVaishnavi Konda Gopal",
      "metadata": {}
    }
  ]
}